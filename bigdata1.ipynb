{
 "cells": [
  {
   "cell_type": "code",
   "execution_count": 70,
   "metadata": {},
   "outputs": [
    {
     "name": "stdout",
     "output_type": "stream",
     "text": [
      "   a  b  c  d  e  f  g  h\n",
      "0  4  5  0  5  1  0  3  2\n",
      "1  0  3  4  3  1  2  1  0\n",
      "2  2  0  1  3  0  4  5  3\n"
     ]
    }
   ],
   "source": [
    "import pandas as pd\n",
    "import numpy as np\n",
    "\n",
    "\n",
    "df = pd.DataFrame(\n",
    "    [[4,5,None,5,1,None,3,2],\n",
    "    [None,3,4,3,1,2,1,None],\n",
    "    [2,None,1,3,None,4,5,3]],\n",
    "    columns=['a','b','c','d','e','f','g','h'])\n",
    "\n",
    "df=df.fillna(0).astype(int)\n",
    "print(df)"
   ]
  },
  {
   "cell_type": "code",
   "execution_count": 71,
   "metadata": {},
   "outputs": [
    {
     "name": "stdout",
     "output_type": "stream",
     "text": [
      "   a  b  c  d  e  f  g  h\n",
      "0  1  1  0  1  1  0  1  1\n",
      "1  0  1  1  1  1  1  1  0\n",
      "2  1  0  1  1  0  1  1  1\n"
     ]
    }
   ],
   "source": [
    "df1=df[:]\n",
    "df1=df1.applymap(lambda x: 1 if(x>=1) else 0)\n",
    "print(df1)"
   ]
  },
  {
   "cell_type": "code",
   "execution_count": 72,
   "metadata": {},
   "outputs": [
    {
     "name": "stdout",
     "output_type": "stream",
     "text": [
      "Jaccard Distance between A and B is 0.5\n",
      "Jaccard Distance between B and C is 0.5\n",
      "Jaccard Distance between A and C is 0.5\n"
     ]
    }
   ],
   "source": [
    "a=(1,1,0,1,1,0,1,1)\n",
    "b=(0,1,1,1,1,1,1,0)\n",
    "c=(1,0,1,1,0,1,1,1)\n",
    "\n",
    "intsect = 0\n",
    "union = 0\n",
    "for i in range(len(a)):\n",
    "    if a[i]== b[i]:\n",
    "        intsect +=1\n",
    "for i in range(len(b)):\n",
    "    if a[i] ==1 or b[i] ==1:\n",
    "        union +=1 \n",
    "jdist=1-(intsect/union)\n",
    "print(\"Jaccard Distance between A and B is \"+str(jdist))\n",
    "\n",
    "intsect =0\n",
    "union =0\n",
    "for i in range(len(b)):\n",
    "    if b[i]==c[i]:\n",
    "        intsect+=1\n",
    "for i in range(len(c)):\n",
    "    if b[i]==1 or c[i]==1:\n",
    "        union+=1\n",
    "jdist=1-(intsect/union)\n",
    "print(\"Jaccard Distance between B and C is \"+str(jdist))\n",
    "\n",
    "intsect =0\n",
    "union =0\n",
    "for i in range(len(a)):\n",
    "    if a[i] ==c[i]:\n",
    "        intsect +=1\n",
    "for i in range(len(c)):\n",
    "    if a[i] ==1 or c[i] ==1:\n",
    "        union +=1   \n",
    "jdist=1-(intsect/union)\n",
    "print(\"Jaccard Distance between A and C is \"+str(jdist))"
   ]
  },
  {
   "cell_type": "code",
   "execution_count": 73,
   "metadata": {},
   "outputs": [
    {
     "name": "stdout",
     "output_type": "stream",
     "text": [
      "The Cosine Distance between A and B is 0.6666666666666667\n",
      "The Cosine Distance between A and C is 0.6666666666666667\n",
      "The Cosine Distance between B and C is 0.6666666666666667\n"
     ]
    }
   ],
   "source": [
    "from math import sqrt\n",
    "\n",
    "a=(1,1,0,1,1,0,1,1)\n",
    "b=(0,1,1,1,1,1,1,0)\n",
    "c=(1,0,1,1,0,1,1,1)\n",
    "\n",
    "def Dotpro(a1,a2):\n",
    "    d=0;\n",
    "    for i in range(len(a1)):\n",
    "        d+=a1[i]*a2[i]\n",
    "    return d\n",
    "\n",
    "dot=Dotpro(a,b)\n",
    "denom=sqrt(Dotpro(a,a))* sqrt(Dotpro(b,b))\n",
    "print(\"The Cosine Distance between A and B is \"+str(dot/denom))\n",
    "\n",
    "dot =Dotpro(a,c)\n",
    "denom =sqrt(Dotpro(a,a))* sqrt(Dotpro(c,c))\n",
    "print(\"The Cosine Distance between A and C is \"+str(dot/denom))\n",
    "\n",
    "dot=Dotpro(b,c)\n",
    "denom =sqrt(Dotpro(b,b))* sqrt(Dotpro(c,c))\n",
    "print(\"The Cosine Distance between B and C is \"+str(dot/denom))\n"
   ]
  },
  {
   "cell_type": "code",
   "execution_count": 74,
   "metadata": {},
   "outputs": [
    {
     "name": "stdout",
     "output_type": "stream",
     "text": [
      "union is : 5  intersection is : 2\n",
      "Jaccard Distance between A and B is 0.6\n",
      " intersection: 3 union is : 6\n",
      "Jaccard Distance between B and C is 0.5\n",
      " intersection is : 4 union is: 6\n",
      "Jaccard Distance between A and C is 0.33333333333333337\n"
     ]
    }
   ],
   "source": [
    "a=(1,1,0,1,0,0,1,0)\n",
    "b=(0,1,1,1,0,0,0,0)\n",
    "c=(0,0,0,1,0,1,1,1)\n",
    "\n",
    "intsect =2\n",
    "union =5\n",
    "\n",
    "    \n",
    "print(\"union is :\",union,\" intersection is :\",intsect)\n",
    "jdist=1-(intsect/union)\n",
    "print(\"Jaccard Distance between A and B is \"+str(jdist))\n",
    "\n",
    "intsect=0\n",
    "union=0\n",
    "for i in range(len(b)):\n",
    "    if b[i]==c[i]:\n",
    "        intsect +=1\n",
    "for i in range(len(c)):\n",
    "    if b[i]==1 or c[i]==1:\n",
    "        union +=1\n",
    "    \n",
    "print(\" intersection:\",intsect, \"union is :\",union)\n",
    "jdist=1-(intsect/union)\n",
    "print(\"Jaccard Distance between B and C is \"+str(jdist))\n",
    "\n",
    "intsect =0\n",
    "union =0\n",
    "for i in range(len(a)):\n",
    "    if a[i]==c[i]:\n",
    "        intsect +=1\n",
    "for i in range(len(c)):\n",
    "    if a[i]==1 or c[i]==1:\n",
    "        union +=1\n",
    "    \n",
    "print(\" intersection is :\",intsect,\"union is:\",union)\n",
    "jdist=1-(intsect/union)\n",
    "print(\"Jaccard Distance between A and C is \"+str(jdist))"
   ]
  },
  {
   "cell_type": "code",
   "execution_count": 75,
   "metadata": {},
   "outputs": [
    {
     "name": "stdout",
     "output_type": "stream",
     "text": [
      "The Cosine Distance between A and B is 0.5773502691896258\n",
      "The Cosine Distance between B and C is 0.2886751345948129\n",
      "The Cosine Distance between A and C is 0.5\n"
     ]
    }
   ],
   "source": [
    "a=(1,1,0,1,0,0,1,0)\n",
    "b=(0,1,1,1,0,0,0,0)\n",
    "c=(0,0,0,1,0,1,1,1)\n",
    "\n",
    "dot=Dotpro(a,b)\n",
    "denom=sqrt(Dotpro(a,a))* sqrt(Dotpro(b,b))\n",
    "print(\"The Cosine Distance between A and B is \"+str(dot/denom))\n",
    "\n",
    "dot=Dotpro(b,c)\n",
    "den=sqrt(Dotpro(b,b))* sqrt(Dotpro(c,c))\n",
    "print(\"The Cosine Distance between B and C is \"+str(dot/denom))\n",
    "\n",
    "dot=Dotpro(a,c)\n",
    "denom=sqrt(Dotpro(a,a))* sqrt(Dotpro(c,c))\n",
    "print(\"The Cosine Distance between A and C is \"+str(dot/denom))\n"
   ]
  },
  {
   "cell_type": "code",
   "execution_count": 76,
   "metadata": {},
   "outputs": [
    {
     "name": "stdout",
     "output_type": "stream",
     "text": [
      "[1.5, 2.5, 0, 2.5, -1.5, 0, 0.5, -0.5]\n",
      "[0, 1.25, 2.25, 1.25, -0.75, 0.25, -0.75, 0]\n",
      "[2, 0, 1, 3, 0, 4, 5, 3]\n"
     ]
    }
   ],
   "source": [
    "\n",
    "a=[4,5,0,5,1,0,3,2]\n",
    "b=[0,3,4,3,1,2,1,0]\n",
    "c=[2,0,1,3,0,4,5,3]\n",
    "\n",
    "def Avg(a1):\n",
    "    avg=0;\n",
    "    for i in range(len(a1)):\n",
    "        avg += a1[i]\n",
    "    avg=avg/len(a1)\n",
    "    return avg\n",
    "\n",
    "def List_create(a1):\n",
    "    l=list()\n",
    "    for i in a1:\n",
    "        if(i is not 0):\n",
    "            l.append(i-Avg(a1))\n",
    "        else:\n",
    "            l.append(0)\n",
    "    return l\n",
    "\n",
    "A=List_create(a)\n",
    "B=List_create(b)\n",
    "C=List_create(c)\n",
    "print(A)\n",
    "print(B)\n",
    "print(c)"
   ]
  },
  {
   "cell_type": "code",
   "execution_count": 77,
   "metadata": {},
   "outputs": [
    {
     "name": "stdout",
     "output_type": "stream",
     "text": [
      "The Cosine Distance between A and B is 0.5465040408511785\n",
      "The Cosine Distance between B and C is -0.31256152042413066\n",
      "The Cosine Distance between A and C is 0.16340829138365012\n"
     ]
    }
   ],
   "source": [
    "\n",
    "\n",
    "a=(1.5, 2.5, 0, 2.5, -1.5, 0, 0.5, -0.5)\n",
    "b=(0, 1.25, 2.25, 1.25, -0.75, 0.25, -0.75, 0)\n",
    "c=(-0.25, 0, -1.25, 0.75, 0, 1.75, 2.75, 0.75) \n",
    "\n",
    "dot=Dotpro(a,b)\n",
    "denom=sqrt(Dotpro(a,a))* sqrt(Dotpro(b,b))\n",
    "print(\"The Cosine Distance between A and B is \"+str(dot/denom))\n",
    "\n",
    "dot=Dotpro(b,c)\n",
    "denom=sqrt(Dotpro(b,b))* sqrt(Dotpro(c,c))\n",
    "print(\"The Cosine Distance between B and C is \"+str(dot/denom))\n",
    "\n",
    "dot=Dotpro(a,c)\n",
    "denom=sqrt(Dotpro(a,a))* sqrt(Dotpro(c,c))\n",
    "print(\"The Cosine Distance between A and C is \"+str(dot/denom))"
   ]
  },
  {
   "cell_type": "code",
   "execution_count": null,
   "metadata": {},
   "outputs": [],
   "source": [
    "\n"
   ]
  },
  {
   "cell_type": "code",
   "execution_count": null,
   "metadata": {},
   "outputs": [],
   "source": []
  },
  {
   "cell_type": "code",
   "execution_count": null,
   "metadata": {},
   "outputs": [],
   "source": []
  }
 ],
 "metadata": {
  "kernelspec": {
   "display_name": "Python 3",
   "language": "python",
   "name": "python3"
  },
  "language_info": {
   "codemirror_mode": {
    "name": "ipython",
    "version": 3
   },
   "file_extension": ".py",
   "mimetype": "text/x-python",
   "name": "python",
   "nbconvert_exporter": "python",
   "pygments_lexer": "ipython3",
   "version": "3.6.5"
  }
 },
 "nbformat": 4,
 "nbformat_minor": 2
}
